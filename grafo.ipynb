{
 "cells": [
  {
   "cell_type": "code",
   "execution_count": 41,
   "metadata": {},
   "outputs": [],
   "source": [
    "import matplotlib as mpl\n",
    "import matplotlib.pyplot as plt\n",
    "import pandas as pd \n",
    "from openpyxl import Workbook, load_workbook\n",
    "from openpyxl.utils import get_column_letter\n",
    "\n",
    "planilhaObesidade = pd.read_csv(\"./statusObesidade.csv\", encoding=\"utf-8\",sep=\";\")\n",
    "planilhaHabitantes = pd.read_csv(\"./habitantes.csv\", encoding=\"utf-8\",sep=\";\")\n",
    "planilhaObesidadeOrdernada = planilhaObesidade.sort_values(by='Estado').reset_index(drop=True)\n",
    "planilhaHabitantesOrdernada = planilhaHabitantes.sort_values(by='Estado').reset_index(drop=True)\n",
    "\n",
    "# display(planilhaObesidadeOrdernada.reset_index(drop=True))\n",
    "# display(planilhaHabitantesOrdernada.reset_index(drop=True))\n",
    "\n",
    "iCountEstados = len(planilhaObesidadeOrdernada['Posicao'])\n",
    "wb = Workbook()\n",
    "ws1 = wb.active\n",
    "ws1.title = 'Dados'\n",
    "\n",
    "# Escreve alguns dados\n",
    "for col in range(1,6):\n",
    "    for row in range(0, iCountEstados):\n",
    "        ws1['A' + str(row + 2)] = planilhaObesidadeOrdernada['Posicao'][row]\n",
    "        ws1['B' + str(row + 2)] = planilhaObesidadeOrdernada['Estado'][row]\n",
    "        ws1['C' + str(row + 2)] = planilhaHabitantesOrdernada['Habitantes'][row]\n",
    "        ws1['D' + str(row + 2)] = round(int(planilhaHabitantesOrdernada['Habitantes'][row]) * (float(planilhaObesidadeOrdernada['Total'][row].replace(',','.'))/100))\n",
    "        ws1['E' + str(row + 2)] = planilhaObesidadeOrdernada['Total'][row]\n",
    "\n",
    "ws1['A1'] = \"Posicao\"\n",
    "ws1['B1'] = \"Estado\" \n",
    "ws1['C1'] = \"Total de Habitantes\" \n",
    "ws1['D1'] = \"Total de Obesos\"\n",
    "ws1['E1'] = \"Taxa\"\n",
    "\n",
    "\n",
    "wb.save('Dados.xlsx')"
   ]
  }
 ],
 "metadata": {
  "kernelspec": {
   "display_name": "Python 3.8.10 ('venv': venv)",
   "language": "python",
   "name": "python3"
  },
  "language_info": {
   "codemirror_mode": {
    "name": "ipython",
    "version": 3
   },
   "file_extension": ".py",
   "mimetype": "text/x-python",
   "name": "python",
   "nbconvert_exporter": "python",
   "pygments_lexer": "ipython3",
   "version": "3.8.10"
  },
  "orig_nbformat": 4,
  "vscode": {
   "interpreter": {
    "hash": "38ff10c61975d22e1fb24270d385445c8dc8bab241374267c303b641ea4a44c0"
   }
  }
 },
 "nbformat": 4,
 "nbformat_minor": 2
}
